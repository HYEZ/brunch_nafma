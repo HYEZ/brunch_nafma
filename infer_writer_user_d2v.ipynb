{
 "cells": [
  {
   "cell_type": "code",
   "execution_count": 1,
   "metadata": {},
   "outputs": [],
   "source": [
    "import collections\n",
    "import glob\n",
    "from itertools import chain\n",
    "import numpy as np\n",
    "import tensorflow as tf\n",
    "import matplotlib.pyplot as plt\n",
    "import pandas as pd\n",
    "%matplotlib inline\n",
    "np.random.seed(1)"
   ]
  },
  {
   "cell_type": "code",
   "execution_count": 2,
   "metadata": {},
   "outputs": [],
   "source": [
    "files = glob.glob('./res/writer_user_doc.txt')\n",
    "\n",
    "words = []\n",
    "for f in files:\n",
    "    file = open(f)\n",
    "    words.append(file.read())\n",
    "    file.close()\n",
    "\n",
    "words = list(chain.from_iterable(words))\n",
    "words = ''.join(words)[:-1]\n",
    "sentences = words.split('\\n')"
   ]
  },
  {
   "cell_type": "code",
   "execution_count": 3,
   "metadata": {},
   "outputs": [],
   "source": [
    "sentences_df = pd.DataFrame(sentences)"
   ]
  },
  {
   "cell_type": "code",
   "execution_count": 4,
   "metadata": {},
   "outputs": [],
   "source": [
    "sentences_df['user'] = sentences_df[0].apply(lambda x : x.split()[0])\n",
    "sentences_df['words'] = sentences_df[0].apply(lambda x : ' '.join(x.split()[1:]))"
   ]
  },
  {
   "cell_type": "code",
   "execution_count": 5,
   "metadata": {},
   "outputs": [],
   "source": [
    "sentences_df_indexed = sentences_df.reset_index().set_index('user')"
   ]
  },
  {
   "cell_type": "code",
   "execution_count": 8,
   "metadata": {},
   "outputs": [],
   "source": [
    "final_doc_embeddings = np.load('./doc_embeddings.npy')"
   ]
  },
  {
   "cell_type": "code",
   "execution_count": 25,
   "metadata": {},
   "outputs": [],
   "source": [
    "def most_similar(user_id, size):\n",
    "    if user_id in sentences_df_indexed.index:\n",
    "        user_index = sentences_df_indexed.loc[user_id]['index']\n",
    "        dist = final_doc_embeddings.dot(final_doc_embeddings[user_index][:,None])\n",
    "        closest_doc = np.argsort(dist,axis=0)[-size:][::-1]\n",
    "        furthest_doc = np.argsort(dist,axis=0)[0][::-1]\n",
    "\n",
    "        result = []\n",
    "        for idx, item in enumerate(closest_doc):\n",
    "            user = sentences[closest_doc[idx][0]].split()[0]\n",
    "            dist_value = dist[item][0][0]\n",
    "            result.append([user, dist_value])\n",
    "        return result"
   ]
  },
  {
   "cell_type": "code",
   "execution_count": 20,
   "metadata": {},
   "outputs": [],
   "source": [
    "def similar(user_id, writer_id):\n",
    "    if user_id in sentences_df_indexed.index and writer_id in sentences_df_indexed.index:\n",
    "        user_index = sentences_df_indexed.loc[user_id]['index']\n",
    "        writer_index = sentences_df_indexed.loc[writer_id]['index']\n",
    "        dist = final_doc_embeddings[user_index].dot(final_doc_embeddings[writer_index])\n",
    "        #print('{} - {} : {}'.format(user_id, writer_id, dist))\n",
    "        return dist"
   ]
  },
  {
   "cell_type": "code",
   "execution_count": 30,
   "metadata": {},
   "outputs": [
    {
     "data": {
      "text/plain": [
       "[['#a0df5bd0e5a5bbc28b87f8c64462667c', 1.0000001],\n",
       " ['@hss730', 0.65026903],\n",
       " ['@joy2003bqji', 0.6284451],\n",
       " ['@inqatar', 0.61798096],\n",
       " ['@brunch9d21', 0.61397386],\n",
       " ['@miriaemoon', 0.61324745],\n",
       " ['@elara1020', 0.6099669],\n",
       " ['@ike', 0.607323],\n",
       " ['@myfriendjesus', 0.5987311],\n",
       " ['#ce81bac9c227d00bb554a2463bcb117e', 0.5972982]]"
      ]
     },
     "execution_count": 30,
     "metadata": {},
     "output_type": "execute_result"
    }
   ],
   "source": [
    "most_similar('#a0df5bd0e5a5bbc28b87f8c64462667c', 10)"
   ]
  },
  {
   "cell_type": "code",
   "execution_count": 31,
   "metadata": {},
   "outputs": [
    {
     "data": {
      "text/plain": [
       "0.28863344"
      ]
     },
     "execution_count": 31,
     "metadata": {},
     "output_type": "execute_result"
    }
   ],
   "source": [
    "similar('#d6866a498157771069fdf15361cb012b', '@seochogirl')"
   ]
  },
  {
   "cell_type": "code",
   "execution_count": 32,
   "metadata": {},
   "outputs": [
    {
     "data": {
      "text/plain": [
       "0.16178107"
      ]
     },
     "execution_count": 32,
     "metadata": {},
     "output_type": "execute_result"
    }
   ],
   "source": [
    "similar('#d6866a498157771069fdf15361cb012b', '@brunch')"
   ]
  },
  {
   "cell_type": "code",
   "execution_count": null,
   "metadata": {},
   "outputs": [],
   "source": []
  }
 ],
 "metadata": {
  "kernelspec": {
   "display_name": "Python 3",
   "language": "python",
   "name": "python3"
  },
  "language_info": {
   "codemirror_mode": {
    "name": "ipython",
    "version": 3
   },
   "file_extension": ".py",
   "mimetype": "text/x-python",
   "name": "python",
   "nbconvert_exporter": "python",
   "pygments_lexer": "ipython3",
   "version": "3.6.4"
  }
 },
 "nbformat": 4,
 "nbformat_minor": 2
}
