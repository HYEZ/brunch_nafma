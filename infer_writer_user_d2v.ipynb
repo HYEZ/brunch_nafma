{
 "cells": [
  {
   "cell_type": "code",
   "execution_count": 256,
   "metadata": {},
   "outputs": [],
   "source": [
    "import collections\n",
    "import glob\n",
    "from itertools import chain\n",
    "import numpy as np\n",
    "import tensorflow as tf\n",
    "import matplotlib.pyplot as plt\n",
    "import pandas as pd\n",
    "%matplotlib inline\n",
    "np.random.seed(1)"
   ]
  },
  {
   "cell_type": "code",
   "execution_count": 257,
   "metadata": {},
   "outputs": [],
   "source": [
    "files = glob.glob('./res/writer_user_sentences_keyword.txt')\n",
    "\n",
    "words = []\n",
    "for f in files:\n",
    "    file = open(f)\n",
    "    words.append(file.read())\n",
    "    file.close()\n",
    "\n",
    "words = list(chain.from_iterable(words))\n",
    "words = ''.join(words)[:-1]\n",
    "sentences = words.split('\\n')"
   ]
  },
  {
   "cell_type": "code",
   "execution_count": 258,
   "metadata": {},
   "outputs": [],
   "source": [
    "sentences_df = pd.DataFrame(sentences)"
   ]
  },
  {
   "cell_type": "code",
   "execution_count": 259,
   "metadata": {},
   "outputs": [],
   "source": [
    "sentences_df['user'] = sentences_df[0].apply(lambda x : x.split()[0])\n",
    "sentences_df['words'] = sentences_df[0].apply(lambda x : ' '.join(x.split()[1:]))"
   ]
  },
  {
   "cell_type": "code",
   "execution_count": 260,
   "metadata": {},
   "outputs": [
    {
     "data": {
      "text/plain": [
       "(32359, 3)"
      ]
     },
     "execution_count": 260,
     "metadata": {},
     "output_type": "execute_result"
    }
   ],
   "source": [
    "sentences_df.shape"
   ]
  },
  {
   "cell_type": "code",
   "execution_count": 261,
   "metadata": {},
   "outputs": [],
   "source": [
    "sentences_df_indexed = sentences_df.reset_index().set_index('user')"
   ]
  },
  {
   "cell_type": "code",
   "execution_count": 262,
   "metadata": {},
   "outputs": [],
   "source": [
    "final_doc_embeddings = np.load('./doc_embeddings_keyword.npy')"
   ]
  },
  {
   "cell_type": "code",
   "execution_count": 263,
   "metadata": {},
   "outputs": [
    {
     "data": {
      "text/plain": [
       "(32359, 50)"
      ]
     },
     "execution_count": 263,
     "metadata": {},
     "output_type": "execute_result"
    }
   ],
   "source": [
    "final_doc_embeddings.shape"
   ]
  },
  {
   "cell_type": "code",
   "execution_count": 264,
   "metadata": {},
   "outputs": [],
   "source": [
    "def most_similar(user_id, size):\n",
    "    if user_id in sentences_df_indexed.index:\n",
    "        user_index = sentences_df_indexed.loc[user_id]['index']\n",
    "        dist = final_doc_embeddings.dot(final_doc_embeddings[user_index][:,None])\n",
    "        closest_doc = np.argsort(dist,axis=0)[-size:][::-1]\n",
    "        furthest_doc = np.argsort(dist,axis=0)[0][::-1]\n",
    "\n",
    "        result = []\n",
    "        for idx, item in enumerate(closest_doc):\n",
    "            user = sentences[closest_doc[idx][0]].split()[0]\n",
    "            dist_value = dist[item][0][0]\n",
    "            result.append([user, dist_value])\n",
    "        return result"
   ]
  },
  {
   "cell_type": "code",
   "execution_count": 265,
   "metadata": {},
   "outputs": [],
   "source": [
    "from scipy import spatial\n",
    "\n",
    "def similar(user_id, writer_id):\n",
    "    if user_id in sentences_df_indexed.index and writer_id in sentences_df_indexed.index:\n",
    "        user_index = sentences_df_indexed.loc[user_id]['index']\n",
    "        writer_index = sentences_df_indexed.loc[writer_id]['index']\n",
    "        sim = spatial.distance.cosine(final_doc_embeddings[user_index], final_doc_embeddings[writer_index])\n",
    "        print('{} - {} : {}'.format(user_id, writer_id, sim))\n",
    "        return sim"
   ]
  },
  {
   "cell_type": "code",
   "execution_count": 266,
   "metadata": {},
   "outputs": [
    {
     "data": {
      "text/plain": [
       "[['#87a6479c91e4276374378f1d28eb307c', 1.0000002],\n",
       " ['#3fe808daf9829225707fb77739858636', 0.7260888],\n",
       " ['@jh2019', 0.59609675],\n",
       " ['@dkfdkfdl', 0.57348394],\n",
       " ['@skyline1019', 0.54642665]]"
      ]
     },
     "execution_count": 266,
     "metadata": {},
     "output_type": "execute_result"
    }
   ],
   "source": [
    "most_similar('#87a6479c91e4276374378f1d28eb307c', 5)"
   ]
  },
  {
   "cell_type": "code",
   "execution_count": 267,
   "metadata": {},
   "outputs": [
    {
     "data": {
      "text/plain": [
       "[['#a0df5bd0e5a5bbc28b87f8c64462667c', 0.9999999],\n",
       " ['@realplan1', 0.67656094],\n",
       " ['@aviationusa', 0.64471817],\n",
       " ['#c92cec1183fbea36203d8390cb9fdf26', 0.62998474],\n",
       " ['@sanjang', 0.6293229]]"
      ]
     },
     "execution_count": 267,
     "metadata": {},
     "output_type": "execute_result"
    }
   ],
   "source": [
    "most_similar('#a0df5bd0e5a5bbc28b87f8c64462667c', 5)"
   ]
  },
  {
   "cell_type": "code",
   "execution_count": 268,
   "metadata": {},
   "outputs": [
    {
     "name": "stdout",
     "output_type": "stream",
     "text": [
      "#d6866a498157771069fdf15361cb012b - @seochogirl : 0.9860673602670431\n",
      "#d6866a498157771069fdf15361cb012b - @brunch : 0.8184942752122879\n",
      "#87a6479c91e4276374378f1d28eb307c - @begintalk : 0.9809975810348988\n",
      "#87a6479c91e4276374378f1d28eb307c - @tnrud572 : 0.7063705027103424\n",
      "#a0df5bd0e5a5bbc28b87f8c64462667c - @kimmh12728xrf : 0.7746954560279846\n",
      "#a0df5bd0e5a5bbc28b87f8c64462667c - @brunch : 0.6628093719482422\n",
      "#ec0fb734ba02a29c62c64e7ac7a8f13e - @sethahn : 0.919483095407486\n",
      "#ec0fb734ba02a29c62c64e7ac7a8f13e - @nomadesk : 1.0463214404881\n"
     ]
    },
    {
     "data": {
      "text/plain": [
       "1.0463214404881"
      ]
     },
     "execution_count": 268,
     "metadata": {},
     "output_type": "execute_result"
    }
   ],
   "source": [
    "similar('#d6866a498157771069fdf15361cb012b', '@seochogirl')\n",
    "similar('#d6866a498157771069fdf15361cb012b', '@brunch')\n",
    "similar('#87a6479c91e4276374378f1d28eb307c', '@begintalk')\n",
    "similar('#87a6479c91e4276374378f1d28eb307c', '@tnrud572')\n",
    "similar('#a0df5bd0e5a5bbc28b87f8c64462667c', '@kimmh12728xrf')\n",
    "similar('#a0df5bd0e5a5bbc28b87f8c64462667c', '@brunch')\n",
    "similar('#ec0fb734ba02a29c62c64e7ac7a8f13e', '@sethahn')\n",
    "similar('#ec0fb734ba02a29c62c64e7ac7a8f13e', '@nomadesk')"
   ]
  },
  {
   "cell_type": "code",
   "execution_count": null,
   "metadata": {},
   "outputs": [],
   "source": []
  },
  {
   "cell_type": "code",
   "execution_count": null,
   "metadata": {},
   "outputs": [],
   "source": []
  }
 ],
 "metadata": {
  "kernelspec": {
   "display_name": "Python 3",
   "language": "python",
   "name": "python3"
  },
  "language_info": {
   "codemirror_mode": {
    "name": "ipython",
    "version": 3
   },
   "file_extension": ".py",
   "mimetype": "text/x-python",
   "name": "python",
   "nbconvert_exporter": "python",
   "pygments_lexer": "ipython3",
   "version": "3.6.4"
  }
 },
 "nbformat": 4,
 "nbformat_minor": 2
}
